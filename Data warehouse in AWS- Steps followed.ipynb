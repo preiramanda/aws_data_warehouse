{
 "cells": [
  {
   "cell_type": "markdown",
   "metadata": {},
   "source": [
    "# IMPORTING LIBs"
   ]
  },
  {
   "cell_type": "code",
   "execution_count": 5,
   "metadata": {},
   "outputs": [],
   "source": [
    "import pandas as pd\n",
    "import boto3\n",
    "import json\n",
    "import psycopg2\n"
   ]
  },
  {
   "cell_type": "markdown",
   "metadata": {},
   "source": [
    "# 1. Configuring credentials"
   ]
  },
  {
   "cell_type": "code",
   "execution_count": 6,
   "metadata": {},
   "outputs": [
    {
     "data": {
      "text/plain": [
      ]
     },
     "execution_count": 6,
     "metadata": {},
     "output_type": "execute_result"
    }
   ],
   "source": [
    "import configparser\n",
    "config = configparser.ConfigParser()\n",
    "config.read_file(open('dwh.cfg'))\n",
    "\n",
    "KEY = config.get('AWS','KEY')\n",
    "SECRET = config.get('AWS','SECRET')\n",
    "\n",
    "DWH_ENDPOINT = config.get(\"DWH\",\"DWH_ENDPOINT\")\n",
    "DWH_IAM_ROLE = config.get(\"DWH\",\"DWH_IAM_ROLE\")\n",
    "DWH_DB                 = config.get(\"DWH\",\"DWH_DB\")\n",
    "DWH_DB_USER            = config.get(\"DWH\",\"DWH_DB_USER\")\n",
    "DWH_DB_PASSWORD        = config.get(\"DWH\",\"DWH_DB_PASSWORD\")\n",
    "DWH_PORT               = config.get(\"DWH\",\"DWH_PORT\")\n",
    "DWH_IAM_ROLE_NAME      = config.get(\"DWH\", \"DWH_IAM_ROLE_NAME\")\n",
    "\n",
    "\n",
    "(DWH_DB_USER, DWH_DB_PASSWORD, DWH_DB)\n"
   ]
  },
  {
   "cell_type": "markdown",
   "metadata": {},
   "source": [
    "# 2. Creating clients"
   ]
  },
  {
   "cell_type": "code",
   "execution_count": 7,
   "metadata": {},
   "outputs": [],
   "source": [
    "import boto3\n",
    "redshift = boto3.client('redshift',\n",
    "                       region_name=\"us-west-2\",\n",
    "                       aws_access_key_id=KEY,\n",
    "                       aws_secret_access_key=SECRET\n",
    "                       )\n",
    "s3 = boto3.resource('s3',\n",
    "                       region_name=\"us-west-2\",\n",
    "                       aws_access_key_id=KEY,\n",
    "                       aws_secret_access_key=SECRET\n",
    "                   )"
   ]
  },
  {
   "cell_type": "markdown",
   "metadata": {},
   "source": [
    "# 3. Checking bucket"
   ]
  },
  {
   "cell_type": "code",
   "execution_count": null,
   "metadata": {},
   "outputs": [],
   "source": [
    "sampleDbBucket =  s3.Bucket(\"udacity-dend\")\n",
    "for obj in sampleDbBucket.objects.filter(Prefix=\"song_data\"):\n",
    "    print(obj)"
   ]
  },
  {
   "cell_type": "markdown",
   "metadata": {},
   "source": [
    "# 4. Connecting to Redshift (my account)"
   ]
  },
  {
   "cell_type": "code",
   "execution_count": 8,
   "metadata": {},
   "outputs": [
    {
     "name": "stdout",
     "output_type": "stream",
     "text": [
      "The sql extension is already loaded. To reload it, use:\n",
      "  %reload_ext sql\n"
     ]
    }
   ],
   "source": [
    "%load_ext sql"
   ]
  },
  {
   "cell_type": "code",
   "execution_count": 9,
   "metadata": {},
   "outputs": [
    {
     "name": "stdout",
     "output_type": "stream",
     "text": [
     ]
    },
    {
     "data": {
      "text/plain": [
       "'Connected'"
      ]
     },
     "execution_count": 9,
     "metadata": {},
     "output_type": "execute_result"
    }
   ],
   "source": [
    "conn_string=\"postgresql://{}:{}@{}:{}/{}\".format(DWH_DB_USER, DWH_DB_PASSWORD, DWH_ENDPOINT, DWH_PORT,DWH_DB)\n",
    "print(conn_string)\n",
    "%sql $conn_string"
   ]
  },
  {
   "cell_type": "markdown",
   "metadata": {},
   "source": [
    "# 5. Dropping tables (if they existed) and creating tables needed"
   ]
  },
  {
   "cell_type": "code",
   "execution_count": null,
   "metadata": {},
   "outputs": [],
   "source": [
    "staging_events_table_drop = \"DROP TABLE IF EXISTS staging_events\"\n",
    "staging_songs_table_drop = \"DROP TABLE IF EXISTS staging_songs\"\n",
    "songplay_table_drop = \"DROP TABLE IF EXISTS songplays\"\n",
    "user_table_drop = \"DROP TABLE IF EXISTS users\"\n",
    "song_table_drop = \"DROP TABLE IF EXISTS songs\"\n",
    "artist_table_drop = \"DROP TABLE IF EXISTS artists\"\n",
    "time_table_drop = \"DROP TABLE IF EXISTS time\"\n",
    "\n",
    "%sql $staging_events_table_drop\n",
    "%sql $staging_songs_table_drop\n",
    "%sql $songplay_table_drop\n",
    "%sql $user_table_drop\n",
    "%sql $song_table_drop\n",
    "%sql $artist_table_drop\n",
    "%sql $time_table_drop"
   ]
  },
  {
   "cell_type": "markdown",
   "metadata": {},
   "source": [
    "### Creating the tables I'll need"
   ]
  },
  {
   "cell_type": "code",
   "execution_count": 10,
   "metadata": {
    "scrolled": true
   },
   "outputs": [
    {
     "name": "stdout",
     "output_type": "stream",
     "text": [

      "Done.\n",
      "Done.\n",
      "Done.\n",
      "Done.\n",
      "Done.\n",
      "Done.\n",
      "Done.\n"
     ]
    },
    {
     "data": {
      "text/plain": [
       "[]"
      ]
     },
     "execution_count": 10,
     "metadata": {},
     "output_type": "execute_result"
    }
   ],
   "source": [
    "%%sql\n",
    "CREATE TABLE IF NOT EXISTS staging_events (artist text distkey, \n",
    "                                           auth text, \n",
    "                                           first_name text, \n",
    "                                           gender text, \n",
    "                                           item_in_session text,\n",
    "                                           last_name text,\n",
    "                                           leng float, \n",
    "                                           level text, \n",
    "                                           location text, \n",
    "                                           method text, \n",
    "                                           page text,\n",
    "                                           registration float, \n",
    "                                           session_id int, \n",
    "                                           song text, \n",
    "                                           status int, \n",
    "                                           ts timestamp,\n",
    "                                           user_agent text, \n",
    "                                           user_id int);\n",
    "\n",
    "CREATE TABLE IF NOT exists staging_songs (artist_name text distkey,\n",
    "                                          artist_id text,\n",
    "                                          artist_latitude float,\n",
    "                                          artist_longitude float,\n",
    "                                          artist_location text,\n",
    "                                          song_id text,\n",
    "                                          title text,\n",
    "                                          duration float,\n",
    "                                          year int,\n",
    "                                          num_songs int);\n",
    "\n",
    "CREATE TABLE IF NOT EXISTS songplays (songplay_id int identity(0,1) primary key,\n",
    "                                     start_time timestamp NOT NULL,\n",
    "                                     user_id text NOT NULL,\n",
    "                                     level text NOT NULL,\n",
    "                                     song_id text NOT NULL,\n",
    "                                     artist_id text NOT NULL distkey,\n",
    "                                     session_id int NOT NULL,\n",
    "                                     location text NOT NULL,\n",
    "                                     user_agent text NOT NULL);\n",
    "\n",
    "CREATE TABLE IF NOT EXISTS users (user_id int primary key,\n",
    "                                  first_name text NOT NULL,\n",
    "                                  last_name text NOT NULL,\n",
    "                                  gender text NOT NULL,\n",
    "                                  level text sortkey NOT NULL);\n",
    "\n",
    "CREATE TABLE IF NOT EXISTS songs (song_id text primary key,\n",
    "                                  title text NOT NULL,\n",
    "                                  artist_id text sortkey NOT NULL,\n",
    "                                  year int NOT NULL,\n",
    "                                  duration float NOT NULL);\n",
    "\n",
    "CREATE TABLE IF NOT EXISTS artists(artist_id text PRIMARY KEY sortkey,\n",
    "                                   artist_name text NOT NULL,\n",
    "                                   location text,\n",
    "                                   latitude float,\n",
    "                                   longitude float);\n",
    "\n",
    "CREATE TABLE IF NOT EXISTS time(start_time timestamp PRIMARY KEY sortkey,\n",
    "                                hour int NOT NULL,\n",
    "                                day int NOT NULL,\n",
    "                                week int NOT NULL,\n",
    "                                month int NOT NULL,\n",
    "                                year int NOT NULL,\n",
    "                                weekday int NOT NULL);"
   ]
  },
  {
   "cell_type": "markdown",
   "metadata": {},
   "source": [
    "# 6. Copying from s3 to staging"
   ]
  },
  {
   "cell_type": "code",
   "execution_count": 11,
   "metadata": {},
   "outputs": [
    {
     "name": "stdout",
     "output_type": "stream",
     "text": [

      "Done.\n"
     ]
    },
    {
     "data": {
      "text/plain": [
       "[]"
      ]
     },
     "execution_count": 11,
     "metadata": {},
     "output_type": "execute_result"
    }
   ],
   "source": [
    "staging_events_copy = (\"\"\"copy staging_events from {} \n",
    "                        credentials 'aws_iam_role={}'\n",
    "                        compupdate off region 'us-west-2' \n",
    "                        FORMAT AS JSON {}\n",
    "                        TIMEFORMAT as 'epochmillisecs'\"\"\").format(config['S3']['LOG_DATA'],\n",
    "                                                                  config['DWH']['DWH_IAM_ROLE'],\n",
    "                                                                  config['S3']['LOG_JSONPATH'])\n",
    "                                                           \n",
    "%sql $staging_events_copy"
   ]
  },
  {
   "cell_type": "code",
   "execution_count": 12,
   "metadata": {},
   "outputs": [
    {
     "name": "stdout",
     "output_type": "stream",
     "text": [

      "Done.\n"
     ]
    },
    {
     "data": {
      "text/plain": [
       "[]"
      ]
     },
     "execution_count": 12,
     "metadata": {},
     "output_type": "execute_result"
    }
   ],
   "source": [
    "staging_songs_copy = (\"\"\"copy staging_songs from {}\n",
    "                      credentials 'aws_iam_role={}'\n",
    "                      compupdate off region 'us-west-2' \n",
    "                      FORMAT AS JSON 'auto'\"\"\").format(config['S3'].get('SONG_DATA'),\n",
    "                                                config['DWH'].get('DWH_IAM_ROLE').strip(\"'\"))\n",
    "%sql $staging_songs_copy"
   ]
  },
  {
   "cell_type": "markdown",
   "metadata": {},
   "source": [
    "# 7. Loading new tables"
   ]
  },
  {
   "cell_type": "markdown",
   "metadata": {},
   "source": [
    "## Inserting in fact table \n",
    "songplays - records in event data associated with song plays i.e. records with page NextSong"
   ]
  },
  {
   "cell_type": "code",
   "execution_count": 13,
   "metadata": {},
   "outputs": [
    {
     "name": "stdout",
     "output_type": "stream",
     "text": [

      "333 rows affected.\n"
     ]
    },
    {
     "data": {
      "text/plain": [
       "[]"
      ]
     },
     "execution_count": 13,
     "metadata": {},
     "output_type": "execute_result"
    }
   ],
   "source": [
    "# FINAL TABLES\n",
    "\n",
    "songplay_table_insert = (\"\"\"INSERT INTO songplays (start_time, user_id, level, song_id, artist_id, session_id, location, user_agent)\n",
    "                            SELECT \n",
    "                            (events.ts)              AS start_time, \n",
    "                            events.user_id           AS user_id, \n",
    "                            events.level             AS level,\n",
    "                            songs.song_id            AS song_id, \n",
    "                            songs.artist_id          AS artist_id, \n",
    "                            events.session_id        AS session_id, \n",
    "                            events.location          AS location, \n",
    "                            events.user_agent        AS user_agent\n",
    "                            FROM staging_events events \n",
    "                            JOIN staging_songs songs ON \n",
    "                            events.artist = songs.artist_name AND events.song = songs.title\n",
    "                            WHERE events.page = 'NextSong' \"\"\")\n",
    "\n",
    "%sql $songplay_table_insert"
   ]
  },
  {
   "cell_type": "code",
   "execution_count": 14,
   "metadata": {},
   "outputs": [
    {
     "name": "stdout",
     "output_type": "stream",
     "text": [

      "105 rows affected.\n"
     ]
    },
    {
     "data": {
      "text/plain": [
       "[]"
      ]
     },
     "execution_count": 14,
     "metadata": {},
     "output_type": "execute_result"
    }
   ],
   "source": [
    "user_table_insert = (\"\"\"INSERT INTO users (user_id, first_name, last_name, gender, level)\n",
    "                        SELECT DISTINCT\n",
    "                        user_id,\n",
    "                        first_name,\n",
    "                        last_name,\n",
    "                        gender,\n",
    "                        level\n",
    "                        FROM staging_events events\n",
    "                        WHERE user_id is NOT NULL\"\"\")\n",
    "%sql $user_table_insert"
   ]
  },
  {
   "cell_type": "code",
   "execution_count": 15,
   "metadata": {},
   "outputs": [
    {
     "name": "stdout",
     "output_type": "stream",
     "text": [

      "14896 rows affected.\n"
     ]
    },
    {
     "data": {
      "text/plain": [
       "[]"
      ]
     },
     "execution_count": 15,
     "metadata": {},
     "output_type": "execute_result"
    }
   ],
   "source": [
    "song_table_insert = (\"\"\"INSERT INTO songs (song_id, title, artist_id, year, duration)\n",
    "                     SELECT DISTINCT \n",
    "                     song_id, \n",
    "                     title, \n",
    "                     artist_id, \n",
    "                     year, \n",
    "                     duration\n",
    "                     FROM staging_songs\n",
    "                     WHERE song_id IS NOT NULL\"\"\")\n",
    "\n",
    "%sql $song_table_insert"
   ]
  },
  {
   "cell_type": "code",
   "execution_count": 16,
   "metadata": {},
   "outputs": [
    {
     "name": "stdout",
     "output_type": "stream",
     "text": [

      "10025 rows affected.\n"
     ]
    },
    {
     "data": {
      "text/plain": [
       "[]"
      ]
     },
     "execution_count": 16,
     "metadata": {},
     "output_type": "execute_result"
    }
   ],
   "source": [
    "artist_table_insert = (\"\"\"INSERT INTO artists (artist_id, artist_name, location, latitude, longitude)\n",
    "                       SELECT DISTINCT \n",
    "                       artist_id, \n",
    "                       artist_name, \n",
    "                       artist_location,\n",
    "                       artist_latitude, \n",
    "                       artist_longitude\n",
    "                       FROM staging_songs\n",
    "                       WHERE artist_id IS NOT NULL\"\"\")\n",
    "\n",
    "%sql $artist_table_insert"
   ]
  },
  {
   "cell_type": "code",
   "execution_count": 17,
   "metadata": {},
   "outputs": [
    {
     "name": "stdout",
     "output_type": "stream",
     "text": [

      "8023 rows affected.\n"
     ]
    },
    {
     "data": {
      "text/plain": [
       "[]"
      ]
     },
     "execution_count": 17,
     "metadata": {},
     "output_type": "execute_result"
    }
   ],
   "source": [
    "time_table_insert = (\"\"\"INSERT INTO time (start_time, hour, day,week, month, year, weekday)\n",
    "                     SELECT DISTINCT \n",
    "                     ts                        AS start_time, \n",
    "                     extract(hour from ts)     AS hour, \n",
    "                     extract(day from ts)      AS day,\n",
    "                     extract(week from ts)     AS week,\n",
    "                     extract(month from ts)    AS month,\n",
    "                     extract(year from ts)     AS year, \n",
    "                     extract(weekday from ts)  AS weekday\n",
    "                     FROM staging_events WHERE ts IS NOT NULL\"\"\")\n",
    "%sql $time_table_insert"
   ]
  },
  {
   "cell_type": "markdown",
   "metadata": {},
   "source": [
    "# 8. ANALYTICS"
   ]
  },
  {
   "cell_type": "markdown",
   "metadata": {},
   "source": [
    "### 1 - Top 5 played songs "
   ]
  },
  {
   "cell_type": "code",
   "execution_count": 18,
   "metadata": {},
   "outputs": [
    {
     "name": "stdout",
     "output_type": "stream",
     "text": [

      "5 rows affected.\n"
     ]
    },
    {
     "data": {
      "text/html": [
       "<table>\n",
       "    <tr>\n",
       "        <th>title</th>\n",
       "        <th>plays</th>\n",
       "    </tr>\n",
       "    <tr>\n",
       "        <td>You&#x27;re The One</td>\n",
       "        <td>37</td>\n",
       "    </tr>\n",
       "    <tr>\n",
       "        <td>I CAN&#x27;T GET STARTED</td>\n",
       "        <td>9</td>\n",
       "    </tr>\n",
       "    <tr>\n",
       "        <td>Catch You Baby (Steve Pitron &amp; Max Sanna Radio Edit)</td>\n",
       "        <td>9</td>\n",
       "    </tr>\n",
       "    <tr>\n",
       "        <td>Nothin&#x27; On You [feat. Bruno Mars] (Album Version)</td>\n",
       "        <td>8</td>\n",
       "    </tr>\n",
       "    <tr>\n",
       "        <td>Hey Daddy (Daddy&#x27;s Home)</td>\n",
       "        <td>6</td>\n",
       "    </tr>\n",
       "</table>"
      ],
      "text/plain": [
       "[(\"You're The One\", 37),\n",
       " (\"I CAN'T GET STARTED\", 9),\n",
       " ('Catch You Baby (Steve Pitron & Max Sanna Radio Edit)', 9),\n",
       " (\"Nothin' On You [feat. Bruno Mars] (Album Version)\", 8),\n",
       " (\"Hey Daddy (Daddy's Home)\", 6)]"
      ]
     },
     "execution_count": 18,
     "metadata": {},
     "output_type": "execute_result"
    }
   ],
   "source": [
    "%%sql\n",
    "\n",
    "SELECT title, \n",
    "COUNT(songplays.song_id) AS plays\n",
    "FROM songplays\n",
    "JOIN songs on songs.song_id = songplays.song_id\n",
    "GROUP BY title\n",
    "ORDER BY plays DESC\n",
    "LIMIT 5;"
   ]
  },
  {
   "cell_type": "markdown",
   "metadata": {},
   "source": [
    "### 2 - Top 5 played artists "
   ]
  },
  {
   "cell_type": "code",
   "execution_count": 19,
   "metadata": {},
   "outputs": [
    {
     "name": "stdout",
     "output_type": "stream",
     "text": [

      "5 rows affected.\n"
     ]
    },
    {
     "data": {
      "text/html": [
       "<table>\n",
       "    <tr>\n",
       "        <th>artist_name</th>\n",
       "        <th>artists</th>\n",
       "    </tr>\n",
       "    <tr>\n",
       "        <td>Dwight Yoakam</td>\n",
       "        <td>37</td>\n",
       "    </tr>\n",
       "    <tr>\n",
       "        <td>Kid Cudi / Kanye West / Common</td>\n",
       "        <td>10</td>\n",
       "    </tr>\n",
       "    <tr>\n",
       "        <td>Kid Cudi</td>\n",
       "        <td>10</td>\n",
       "    </tr>\n",
       "    <tr>\n",
       "        <td>Ron Carter</td>\n",
       "        <td>9</td>\n",
       "    </tr>\n",
       "    <tr>\n",
       "        <td>Lonnie Gordon</td>\n",
       "        <td>9</td>\n",
       "    </tr>\n",
       "</table>"
      ],
      "text/plain": [
       "[('Dwight Yoakam', 37),\n",
       " ('Kid Cudi / Kanye West / Common', 10),\n",
       " ('Kid Cudi', 10),\n",
       " ('Ron Carter', 9),\n",
       " ('Lonnie Gordon', 9)]"
      ]
     },
     "execution_count": 19,
     "metadata": {},
     "output_type": "execute_result"
    }
   ],
   "source": [
    "%%sql\n",
    "\n",
    "SELECT artist_name, \n",
    "COUNT(songplays.artist_id) AS artists\n",
    "FROM songplays\n",
    "JOIN artists on artists.artist_id = songplays.artist_id\n",
    "GROUP BY artist_name\n",
    "ORDER BY artists DESC\n",
    "LIMIT 5;"
   ]
  },
  {
   "cell_type": "markdown",
   "metadata": {},
   "source": [
    "### 3 - Artists who have more songs in Sparkify"
   ]
  },
  {
   "cell_type": "code",
   "execution_count": 20,
   "metadata": {},
   "outputs": [
    {
     "name": "stdout",
     "output_type": "stream",
     "text": [

      "5 rows affected.\n"
     ]
    },
    {
     "data": {
      "text/html": [
       "<table>\n",
       "    <tr>\n",
       "        <th>artist_name</th>\n",
       "        <th>number_of_songs</th>\n",
       "    </tr>\n",
       "    <tr>\n",
       "        <td>Polygon Window</td>\n",
       "        <td>9</td>\n",
       "    </tr>\n",
       "    <tr>\n",
       "        <td>Badly Drawn Boy</td>\n",
       "        <td>9</td>\n",
       "    </tr>\n",
       "    <tr>\n",
       "        <td>Alison Krauss / Union Station</td>\n",
       "        <td>9</td>\n",
       "    </tr>\n",
       "    <tr>\n",
       "        <td>Radiohead</td>\n",
       "        <td>8</td>\n",
       "    </tr>\n",
       "    <tr>\n",
       "        <td>The Breeders</td>\n",
       "        <td>8</td>\n",
       "    </tr>\n",
       "</table>"
      ],
      "text/plain": [
       "[('Polygon Window', 9),\n",
       " ('Badly Drawn Boy', 9),\n",
       " ('Alison Krauss / Union Station', 9),\n",
       " ('Radiohead', 8),\n",
       " ('The Breeders', 8)]"
      ]
     },
     "execution_count": 20,
     "metadata": {},
     "output_type": "execute_result"
    }
   ],
   "source": [
    "%%sql\n",
    "\n",
    "SELECT DISTINCT \n",
    "artist_name,\n",
    "COUNT(song_id) AS number_of_songs\n",
    "FROM songs \n",
    "JOIN artists on songs.artist_id = artists.artist_id\n",
    "GROUP BY artist_name\n",
    "ORDER BY number_of_songs desc\n",
    "LIMIT 5\n",
    "                     "
   ]
  },
  {
   "cell_type": "markdown",
   "metadata": {},
   "source": [
    "### 4 - Most used devices"
   ]
  },
  {
   "cell_type": "code",
   "execution_count": 21,
   "metadata": {},
   "outputs": [
    {
     "name": "stdout",
     "output_type": "stream",
     "text": [

      "5 rows affected.\n"
     ]
    },
    {
     "data": {
      "text/html": [
       "<table>\n",
       "    <tr>\n",
       "        <th>user_agent</th>\n",
       "        <th>devices</th>\n",
       "    </tr>\n",
       "    <tr>\n",
       "        <td>&quot;Mozilla/5.0 (Macintosh; Intel Mac OS X 10_9_4) AppleWebKit/537.36 (KHTML, like Gecko) Chrome/36.0.1985.143 Safari/537.36&quot;</td>\n",
       "        <td>51</td>\n",
       "    </tr>\n",
       "    <tr>\n",
       "        <td>Mozilla/5.0 (Windows NT 5.1; rv:31.0) Gecko/20100101 Firefox/31.0</td>\n",
       "        <td>43</td>\n",
       "    </tr>\n",
       "    <tr>\n",
       "        <td>&quot;Mozilla/5.0 (Macintosh; Intel Mac OS X 10_9_4) AppleWebKit/537.78.2 (KHTML, like Gecko) Version/7.0.6 Safari/537.78.2&quot;</td>\n",
       "        <td>34</td>\n",
       "    </tr>\n",
       "    <tr>\n",
       "        <td>&quot;Mozilla/5.0 (X11; Linux x86_64) AppleWebKit/537.36 (KHTML, like Gecko) Chrome/37.0.2062.94 Safari/537.36&quot;</td>\n",
       "        <td>33</td>\n",
       "    </tr>\n",
       "    <tr>\n",
       "        <td>&quot;Mozilla/5.0 (Windows NT 6.3; WOW64) AppleWebKit/537.36 (KHTML, like Gecko) Chrome/36.0.1985.143 Safari/537.36&quot;</td>\n",
       "        <td>23</td>\n",
       "    </tr>\n",
       "</table>"
      ],
      "text/plain": [
       "[('\"Mozilla/5.0 (Macintosh; Intel Mac OS X 10_9_4) AppleWebKit/537.36 (KHTML, like Gecko) Chrome/36.0.1985.143 Safari/537.36\"', 51),\n",
       " ('Mozilla/5.0 (Windows NT 5.1; rv:31.0) Gecko/20100101 Firefox/31.0', 43),\n",
       " ('\"Mozilla/5.0 (Macintosh; Intel Mac OS X 10_9_4) AppleWebKit/537.78.2 (KHTML, like Gecko) Version/7.0.6 Safari/537.78.2\"', 34),\n",
       " ('\"Mozilla/5.0 (X11; Linux x86_64) AppleWebKit/537.36 (KHTML, like Gecko) Chrome/37.0.2062.94 Safari/537.36\"', 33),\n",
       " ('\"Mozilla/5.0 (Windows NT 6.3; WOW64) AppleWebKit/537.36 (KHTML, like Gecko) Chrome/36.0.1985.143 Safari/537.36\"', 23)]"
      ]
     },
     "execution_count": 21,
     "metadata": {},
     "output_type": "execute_result"
    }
   ],
   "source": [
    "%%sql\n",
    "\n",
    "SELECT user_agent, \n",
    "COUNT(songplays.user_agent) AS devices\n",
    "FROM songplays\n",
    "GROUP BY user_agent\n",
    "ORDER BY devices DESC\n",
    "LIMIT 5;"
   ]
  },
  {
   "cell_type": "markdown",
   "metadata": {},
   "source": [
    "# 9. Disconnecting"
   ]
  },
  {
   "cell_type": "code",
   "execution_count": 22,
   "metadata": {},
   "outputs": [
    {
     "name": "stdout",
     "output_type": "stream",
     "text": [

      "Done.\n",

      "Done.\n",

      "Done.\n",

      "Done.\n",

      "Done.\n",

      "Done.\n",

      "Done.\n"
     ]
    },
    {
     "data": {
      "text/plain": [
       "[]"
      ]
     },
     "execution_count": 22,
     "metadata": {},
     "output_type": "execute_result"
    }
   ],
   "source": [
    "staging_events_table_drop = \"DROP TABLE IF EXISTS staging_events\"\n",
    "staging_songs_table_drop = \"DROP TABLE IF EXISTS staging_songs\"\n",
    "songplay_table_drop = \"DROP TABLE IF EXISTS songplays\"\n",
    "user_table_drop = \"DROP TABLE IF EXISTS users\"\n",
    "song_table_drop = \"DROP TABLE IF EXISTS songs\"\n",
    "artist_table_drop = \"DROP TABLE IF EXISTS artists\"\n",
    "time_table_drop = \"DROP TABLE IF EXISTS time\"\n",
    "\n",
    "%sql $staging_events_table_drop\n",
    "%sql $staging_songs_table_drop\n",
    "%sql $songplay_table_drop\n",
    "%sql $user_table_drop\n",
    "%sql $song_table_drop\n",
    "%sql $artist_table_drop\n",
    "%sql $time_table_drop"
   ]
  },
  {
   "cell_type": "code",
   "execution_count": null,
   "metadata": {},
   "outputs": [],
   "source": []
  }
 ],
 "metadata": {
  "kernelspec": {
   "display_name": "Python 3",
   "language": "python",
   "name": "python3"
  },
  "language_info": {
   "codemirror_mode": {
    "name": "ipython",
    "version": 3
   },
   "file_extension": ".py",
   "mimetype": "text/x-python",
   "name": "python",
   "nbconvert_exporter": "python",
   "pygments_lexer": "ipython3",
   "version": "3.6.3"
  }
 },
 "nbformat": 4,
 "nbformat_minor": 2
}
